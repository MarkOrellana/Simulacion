{
 "cells": [
  {
   "cell_type": "code",
   "execution_count": 118,
   "metadata": {},
   "outputs": [],
   "source": [
    "def poker(numeros_aleatorios):\n",
    "    numeros={}\n",
    "    repetidos={}\n",
    "    contador=0\n",
    "    b=[]\n",
    "    categorias={'Todos Diferentes':0,'Par':0,'2 Pares':0,'Tercia y par':0,'Tercia':0,'Poker':0,'Quintilla':0}\n",
    "    #probabilidad = {'td':0.30240, '1p':0.50400, '2p':0.10800, 'tercia':0.07200, 'full':0.00900, 'poker':0.00450, 'quintilla':0.00010}\n",
    "    for n in numeros_aleatorios:\n",
    "        naux=n.split(\".\")[1]\n",
    "        naux=naux[:5]\n",
    "        b.append(naux)\n",
    "    #print(b)\n",
    "        for nn in naux:\n",
    "            if nn in repetidos: \n",
    "                repetidos[nn] += 1 \n",
    "            else:\n",
    "                repetidos[nn] = 1 \n",
    "        numeros[n]=repetidos\n",
    "    #print(repetidos)\n",
    "        a=0 \n",
    "        valoresRep=list(repetidos.values())\n",
    "    #print(valoresRep)\n",
    "        if (2 in valoresRep) and (3 in valoresRep):\n",
    "            categorias['Tercia y par']+=1\n",
    "        elif 2 in valoresRep:\n",
    "        #print(repetidos)\n",
    "            for rep in valoresRep:\n",
    "                if rep==2:\n",
    "                    a+=1\n",
    "            if a == 1:\n",
    "                categorias['Par']+=1\n",
    "            if a == 2:\n",
    "                categorias['2 Pares']+=1\n",
    "        elif 3 in valoresRep:\n",
    "            categorias['Tercia']+=1\n",
    "        elif 4 in valoresRep:\n",
    "            categorias['Poker']+=1\n",
    "        elif 5 in valoresRep:\n",
    "            categorias['Quintilla']+=1\n",
    "        else:\n",
    "            categorias['Todos Diferentes']+=1\n",
    "\n",
    "        repetidos={}\n",
    "        \n",
    "    listita=list(categorias.values())\n",
    "    sumaRepetidos=sum(listita)\n",
    "    print(b)\n",
    "    print(categorias)\n",
    "    print(sumaRepetidos)\n",
    "    uno=(((0.3024*sumaRepetidos)-categorias['Todos Diferentes']))**2/(0.3024*sumaRepetidos)\n",
    "    dos=(((0.5040*sumaRepetidos)-categorias['Par']))**2/(0.5040*sumaRepetidos)\n",
    "    tres=(((0.1080*sumaRepetidos)-categorias['2 Pares']))**2/(0.1080*sumaRepetidos)\n",
    "    cuatro=(((0.0090*sumaRepetidos)-categorias['Tercia y par']))**2/(0.0090*sumaRepetidos)\n",
    "    cinco=(((0.0720*sumaRepetidos)-categorias['Tercia']))**2/(0.0720*sumaRepetidos)\n",
    "    seis=(((0.0045*sumaRepetidos)-categorias['Poker']))**2/(0.0045*sumaRepetidos)\n",
    "    siete=(((0.0001*sumaRepetidos)-categorias['Quintilla']))**2/(0.0001*sumaRepetidos)\n",
    "    listaProbabilidad=[uno,dos,tres,cuatro,cinco,seis,siete]\n",
    "    sumita=sum(listaProbabilidad)\n",
    "    print(sumita)\n",
    "        "
   ]
  },
  {
   "cell_type": "code",
   "execution_count": 119,
   "metadata": {},
   "outputs": [
    {
     "name": "stdout",
     "output_type": "stream",
     "text": [
      "['60096', '75448', '12043', '22381', '35544', '36493', '17405', '32250', '07365', '22328', '56576', '47192', '42029', '37108', '10650', '38331', '70498', '13690', '57169', '97893', '23678', '00672', '51390', '64386', '67770', '18065', '26003', '99901', '78192', '65281', '41158', '35032', '63215', '24128', '15876', '06886', '22031', '06359', '63595', '59540', '67986', '24934', '97015', '51759', '01464', '62785', '60439', '57345', '09193', '38857', '39098', '94565', '13011', '65062', '74547', '83429', '28925', '99047', '52202', '45849', '09767', '37267', '71644', '15920', '09577', '54991', '90418', '68507', '20019', '80839', '31619', '42123', '57313', '67765', '25347', '04977', '06577', '13836', '57308', '12501', '24218', '36667', '73774', '20541', '26456', '14637', '49109', '51830', '33457', '74858', '79547', '29900', '49724', '82045', '41788', '02400', '62875', '83702', '65463', '04217']\n",
      "{'Todos Diferentes': 32, 'Par': 52, '2 Pares': 7, 'Tercia y par': 0, 'Tercia': 9, 'Poker': 0, 'Quintilla': 0}\n",
      "100\n",
      "3.3002645502645507\n"
     ]
    }
   ],
   "source": [
    "# metodo generar numeros con random\n",
    "def random_python(semilla):\n",
    "    N=100\n",
    "    numeros = []\n",
    "    random.seed(semilla)\n",
    "    for i in range(N):\n",
    "        nrand=random.random()\n",
    "        nrand=str(nrand)\n",
    "        numeros.append(nrand)\n",
    "    return numeros\n",
    "\n",
    "poker(random_python(1032022))"
   ]
  },
  {
   "cell_type": "code",
   "execution_count": 97,
   "metadata": {},
   "outputs": [],
   "source": [
    "# metodo generar numero con cuadrados medios:\n",
    "def cuadrados():\n",
    "    rn=[]\n",
    "    xo = 74731897457\n",
    "    digitos = 7\n",
    "    iteraciones = 100\n",
    "    xn = xo\n",
    "    #print(\"It. \\t Xn \\t Ui \\t Rn\")\n",
    "    for i in range(iteraciones):\n",
    "        xnn = xn**2\n",
    "        txnn = str(xnn).zfill(8)\n",
    "        tam = len(txnn)\n",
    "        ui = int(txnn[int(tam/2-digitos/2):int(tam/2+digitos/2)])\n",
    "        rn.append(ui / (int('9'*digitos)+1)) \n",
    "       #print(str(i) + \"\\t\" + str(xn) + \"\\t\"+ str(ui)+\"\\t\"+str(rn))\n",
    "        xn = ui\n",
    "    \n",
    "    return rn"
   ]
  },
  {
   "cell_type": "code",
   "execution_count": 3,
   "metadata": {},
   "outputs": [],
   "source": [
    "# metodo generar numero con congruencia lineal\n",
    "def congruencia():\n",
    "    ui=[]\n",
    "    xo = 7\n",
    "    a = 74731897457\n",
    "    b = 37747318974\n",
    "    m = 19\n",
    "    iteraciones = 100\n",
    "    xn = xo\n",
    "    #print(\"It. \\t Xn \\t Ui\")\n",
    "    for i in range(iteraciones):\n",
    "        xnn = (a*xn+b) % m\n",
    "        ui.append(xnn/m)\n",
    "        #print(str(i) + \"\\t\"+ str(xnn)+\"\\t\"+str(ui))\n",
    "        xn = xnn\n",
    "        \n",
    "    return ui"
   ]
  },
  {
   "cell_type": "code",
   "execution_count": 13,
   "metadata": {},
   "outputs": [],
   "source": []
  },
  {
   "cell_type": "code",
   "execution_count": 14,
   "metadata": {},
   "outputs": [
    {
     "name": "stdout",
     "output_type": "stream",
     "text": [
      "Random\n"
     ]
    }
   ],
   "source": [
    "print(\"Random\")\n",
    "numeros1= random_python(100)\n",
    "#print(numeros1)"
   ]
  },
  {
   "cell_type": "code",
   "execution_count": 15,
   "metadata": {},
   "outputs": [
    {
     "name": "stdout",
     "output_type": "stream",
     "text": [
      "Cuadrados\n"
     ]
    }
   ],
   "source": [
    "print(\"Cuadrados\")\n",
    "numeros1= cuadrados()\n",
    "#print(numeros1)"
   ]
  },
  {
   "cell_type": "code",
   "execution_count": null,
   "metadata": {},
   "outputs": [],
   "source": []
  }
 ],
 "metadata": {
  "kernelspec": {
   "display_name": "Python 3",
   "language": "python",
   "name": "python3"
  },
  "language_info": {
   "codemirror_mode": {
    "name": "ipython",
    "version": 3
   },
   "file_extension": ".py",
   "mimetype": "text/x-python",
   "name": "python",
   "nbconvert_exporter": "python",
   "pygments_lexer": "ipython3",
   "version": "3.7.3"
  }
 },
 "nbformat": 4,
 "nbformat_minor": 2
}
