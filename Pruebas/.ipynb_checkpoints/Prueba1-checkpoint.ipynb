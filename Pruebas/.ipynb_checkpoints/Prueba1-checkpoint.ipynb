{
 "cells": [
  {
   "cell_type": "code",
   "execution_count": 2,
   "metadata": {},
   "outputs": [],
   "source": [
    "import random as rnd\n",
    "import matplotlib.pyplot as plt  \n",
    "import numpy\n",
    "from collections import Counter"
   ]
  },
  {
   "cell_type": "code",
   "execution_count": 9,
   "metadata": {},
   "outputs": [
    {
     "name": "stdout",
     "output_type": "stream",
     "text": [
      "Numero Jugadores: 1\n",
      "Numero Intentos: 5\n"
     ]
    }
   ],
   "source": [
    "n=int(input('Numero Jugadores: '))\n",
    "m=int(input('Numero Intentos: '))\n",
    "gana=numpy.zeros(n+1,dtype=int)\n",
    "apuesta=numpy.zeros(n+1,dtype=int)\n",
    "ronda = 1\n",
    "saldo_global = 10000\n",
    "nroj=[1, 3, 5, 7, 9, 11, 13, 15, 17, 19, 21, 23, 25, 27, 29, 31, 33, 35]\n",
    "nneg=[2, 4, 6, 8, 10, 12, 14, 16, 18, 20, 22, 24, 26, 28, 30, 32, 34, 36]\n",
    "menor=[]"
   ]
  },
  {
   "cell_type": "code",
   "execution_count": 10,
   "metadata": {},
   "outputs": [
    {
     "name": "stdout",
     "output_type": "stream",
     "text": [
      "Saldo global 10000\n",
      "\n",
      "Su numero es: 5\n",
      "Su apuesta es: 195\n",
      "jugador ( 1 ) \n",
      "Número que sale en ruleta:  14\n",
      "Saldo jugador: 9805\n",
      "Su numero es: 23\n",
      "Su apuesta es: 165\n",
      "jugador ( 1 ) \n",
      "Número que sale en ruleta:  6\n",
      "Saldo jugador: 9640\n",
      "Su numero es: 22\n",
      "Su apuesta es: 185\n",
      "jugador ( 1 ) \n",
      "Número que sale en ruleta:  29\n",
      "Saldo jugador: 9455\n",
      "Su numero es: 29\n",
      "Su apuesta es: 153\n",
      "jugador ( 1 ) \n",
      "Número que sale en ruleta:  16\n",
      "Saldo jugador: 9302\n",
      "Su numero es: 15\n",
      "Su apuesta es: 188\n",
      "jugador ( 1 ) \n",
      "Número que sale en ruleta:  6\n",
      "Saldo jugador: 9114\n",
      "\n",
      "Los resultados son:\n",
      "Jugador( 1 ) ganó  0  veces \n",
      "\n",
      "\n"
     ]
    }
   ],
   "source": [
    "print(\"Saldo global\",saldo_global)\n",
    "print(\"\")\n",
    "while (ronda<=m):\n",
    "    numeros= rnd.randint (0,37)\n",
    "    apt= rnd.randint (10,200)\n",
    "    print (\"Su numero es:\" ,(numeros))\n",
    "    print (\"Su apuesta es:\",(apt))\n",
    "    # Ingreso de apuestas\n",
    "    j = 1\n",
    "    while (j<=n):\n",
    "        print('jugador (',j,') ')\n",
    "        apuesta[j] = int(numeros)\n",
    "        j = j + 1\n",
    "\n",
    "    ruleta = int(rnd.random()*37)+1\n",
    "    print('Número que sale en ruleta: ', ruleta)\n",
    "    menor.append(ruleta)\n",
    "    \n",
    "    # Revisa ganadores\n",
    "    \n",
    "    j = 1\n",
    "    while (j<=n):\n",
    "        if (ruleta==apuesta[j]):\n",
    "            gana[j] = gana[j]+1\n",
    "        else:\n",
    "            saldo_global=saldo_global-apt\n",
    "        j = j + 1\n",
    "        print(\"Saldo jugador:\",saldo_global)\n",
    "    ronda = ronda + 1\n",
    "    \n",
    "print(\"\")\n",
    "print('Los resultados son:')\n",
    "j = 1\n",
    "while (j<=n):\n",
    "    print('Jugador(',j,') ganó ',gana[j],' veces \\n')\n",
    "    j = j + 1\n",
    "    print(\"\")\n",
    "#print(\"Saldo total: \")"
   ]
  },
  {
   "cell_type": "code",
   "execution_count": 147,
   "metadata": {},
   "outputs": [
    {
     "name": "stdout",
     "output_type": "stream",
     "text": [
      "[11, 8, 22, 20, 3, 28, 31, 33, 6, 21, 18, 8, 22, 14, 14, 3, 30, 28, 21, 31, 2, 30, 19, 3, 36, 34, 17, 8, 12, 36, 11, 8, 26, 16, 18, 7, 11, 18, 17, 33, 25, 19, 31, 4, 3, 26, 8, 5, 21, 32, 23, 31, 7, 12, 30, 35, 18, 5, 25, 2, 3, 4, 34, 28, 8, 30, 18, 36, 34, 5, 30, 26, 14, 5, 17, 37, 30, 7, 27, 35, 31, 20, 25, 22, 5, 2, 21, 33, 35, 36, 24, 22, 2, 33, 30, 11, 23, 5, 36, 17]\n"
     ]
    }
   ],
   "source": [
    "print (menor)"
   ]
  },
  {
   "cell_type": "code",
   "execution_count": 148,
   "metadata": {},
   "outputs": [
    {
     "data": {
      "text/plain": [
       "[(2, 4),\n",
       " (3, 5),\n",
       " (4, 2),\n",
       " (5, 6),\n",
       " (6, 1),\n",
       " (7, 3),\n",
       " (8, 6),\n",
       " (11, 4),\n",
       " (12, 2),\n",
       " (14, 3),\n",
       " (16, 1),\n",
       " (17, 4),\n",
       " (18, 5),\n",
       " (19, 2),\n",
       " (20, 2),\n",
       " (21, 4),\n",
       " (22, 4),\n",
       " (23, 2),\n",
       " (24, 1),\n",
       " (25, 3),\n",
       " (26, 3),\n",
       " (27, 1),\n",
       " (28, 3),\n",
       " (30, 7),\n",
       " (31, 5),\n",
       " (32, 1),\n",
       " (33, 4),\n",
       " (34, 3),\n",
       " (35, 3),\n",
       " (36, 5),\n",
       " (37, 1)]"
      ]
     },
     "execution_count": 148,
     "metadata": {},
     "output_type": "execute_result"
    }
   ],
   "source": [
    "conteo=Counter(menor)\n",
    "resultado={}\n",
    "\n",
    "for clave in conteo:  \n",
    "    valor=conteo[clave]\n",
    "    if valor != 0:\n",
    "        resultado[clave] = valor\n",
    "#print(resultado)\n",
    "sorted(resultado.items())"
   ]
  },
  {
   "cell_type": "code",
   "execution_count": 151,
   "metadata": {},
   "outputs": [
    {
     "data": {
      "image/png": "[encoded data removed]",
      "text/plain": [
       "<Figure size 432x288 with 1 Axes>"
      ]
     },
     "metadata": {
      "needs_background": "light"
     },
     "output_type": "display_data"
    }
   ],
   "source": [
    "numeroruleta = list(resultado.keys())\n",
    "repite = list(resultado.values())\n",
    "\n",
    "plt.bar(numeroruleta, repite)\n",
    "## Legenda en el eje y\n",
    "plt.ylabel('Repeticiones')\n",
    "## Legenda en el eje x\n",
    "plt.xlabel('Numero ruleta')\n",
    "## Título de Gráfica\n",
    "plt.title('Grafica de que numero se repite menos')\n",
    "plt.show()"
   ]
  },
  {
   "cell_type": "code",
   "execution_count": null,
   "metadata": {},
   "outputs": [],
   "source": []
  },
  {
   "cell_type": "code",
   "execution_count": null,
   "metadata": {},
   "outputs": [],
   "source": []
  },
  {
   "cell_type": "code",
   "execution_count": null,
   "metadata": {},
   "outputs": [],
   "source": []
  }
 ],
 "metadata": {
  "kernelspec": {
   "display_name": "Python 3",
   "language": "python",
   "name": "python3"
  },
  "language_info": {
   "codemirror_mode": {
    "name": "ipython",
    "version": 3
   },
   "file_extension": ".py",
   "mimetype": "text/x-python",
   "name": "python",
   "nbconvert_exporter": "python",
   "pygments_lexer": "ipython3",
   "version": "3.7.3"
  }
 },
 "nbformat": 4,
 "nbformat_minor": 2
}
