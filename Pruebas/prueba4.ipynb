{
 "cells": [
  {
   "cell_type": "markdown",
   "metadata": {},
   "source": [
    "**Enunciado:\n",
    "Desarrollar un sistema de evento discreto para una agencia de transporte utilizando Simpy. Caso practico:**\n",
    "\n",
    "La empresa de transporte Cuenca desea saber cual es su ganancia  si aumenta su flota a 7 buses teniendo en cuenta los siguientes aspectos:\n",
    "\n",
    "* Los buses cubre la ruta de Norte  Sur de la ciudad.\n",
    "* Trabajan de 6:00 a 22:00 con un descanso de 1 hora en el almuerzo\n",
    "* Cada ruta se demora 1:30 cada uno de los buses.\n",
    "* Tiene un descanso de 30 minutos al finalizar el recorrido\n",
    "* La capacidad máxima es de 65 personas\n",
    "*  Tienen 20 paradas dentro de la ruta.\n",
    "  *  En cada parada se suben de 3 – 7 pasajeros .\n",
    "  * Se bajan de 5 –  7 pasajeros\n",
    "  * EL 70% son personas que pagan el pasaje completo\n",
    "  * El 30% estudiantes y tercera edad\n",
    "  * Los valores corresponde 0.30 centavos\n",
    "  * La ultima parada todos se bajan sin excepción.\n"
   ]
  },
  {
   "cell_type": "code",
   "execution_count": 1,
   "metadata": {},
   "outputs": [
    {
     "name": "stdout",
     "output_type": "stream",
     "text": [
      "Collecting simpy\n",
      "  Downloading https://files.pythonhosted.org/packages/20/f9/874b0bab83406827db93292a5bbe5acb5c18e3cea665b2f6e053292cb687/simpy-4.0.1-py2.py3-none-any.whl\n",
      "Installing collected packages: simpy\n",
      "Successfully installed simpy-4.0.1\n"
     ]
    }
   ],
   "source": [
    "!pip install simpy"
   ]
  },
  {
   "cell_type": "code",
   "execution_count": 2,
   "metadata": {},
   "outputs": [],
   "source": [
    "import simpy\n",
    "import random\n",
    "from scipy.stats import uniform\n",
    "from random import expovariate\n",
    "from scipy import stats\n",
    "import matplotlib.pyplot as plt\n",
    "\n",
    "repetir = []\n",
    "tiempo={}\n",
    "llega = []"
   ]
  },
  {
   "cell_type": "code",
   "execution_count": null,
   "metadata": {},
   "outputs": [],
   "source": [
    "class PROCESO(object):\n",
    "  def __init__(self, environment):\n",
    "    self.env=environment\n",
    "    self.entrada_liviano = simpy.Resource(environment, 2)\n",
    "    self.entrada_pesado = simpy.Resource(environment, 1)\n",
    "    self.turno = simpy.Resource(environment, 1)\n",
    "    self.pago = simpy.Resource(environment, 1)\n",
    "    self.revision = simpy.Resource(environment, 1)\n",
    "    self.sello = simpy.Resource(environment, 1)\n",
    "    self.salida = simpy.Resource(environment, 1)"
   ]
  }
 ],
 "metadata": {
  "kernelspec": {
   "display_name": "Python 3",
   "language": "python",
   "name": "python3"
  },
  "language_info": {
   "codemirror_mode": {
    "name": "ipython",
    "version": 3
   },
   "file_extension": ".py",
   "mimetype": "text/x-python",
   "name": "python",
   "nbconvert_exporter": "python",
   "pygments_lexer": "ipython3",
   "version": "3.7.3"
  }
 },
 "nbformat": 4,
 "nbformat_minor": 2
}
