{
 "cells": [
  {
   "cell_type": "code",
   "execution_count": 3,
   "metadata": {},
   "outputs": [],
   "source": [
    "# metodo generar numero con cuadrados medios:\n",
    "def cuadrados():\n",
    "    rn=[]\n",
    "    xo = 74731897457\n",
    "    digitos = 7\n",
    "    iteraciones = 100\n",
    "    xn = xo\n",
    "    #print(\"It. \\t Xn \\t Ui \\t Rn\")\n",
    "    for i in range(iteraciones):\n",
    "        xnn = xn**2\n",
    "        txnn = str(xnn).zfill(8)\n",
    "        tam = len(txnn)\n",
    "        ui = int(txnn[int(tam/2-digitos/2):int(tam/2+digitos/2)])\n",
    "        rn.append(ui / (int('9'*digitos)+1)) \n",
    "       #print(str(i) + \"\\t\" + str(xn) + \"\\t\"+ str(ui)+\"\\t\"+str(rn))\n",
    "        xn = ui\n",
    "    \n",
    "    return rn\n",
    "    \n",
    "\n"
   ]
  },
  {
   "cell_type": "code",
   "execution_count": 4,
   "metadata": {},
   "outputs": [],
   "source": [
    "# metodo generar numero con congruencia lineal\n",
    "def congruencia():\n",
    "    ui=[]\n",
    "    xo = 7\n",
    "    a = 74731897457\n",
    "    b = 37747318974\n",
    "    m = 19\n",
    "    iteraciones = 100\n",
    "    xn = xo\n",
    "    #print(\"It. \\t Xn \\t Ui\")\n",
    "    for i in range(iteraciones):\n",
    "        xnn = (a*xn+b) % m\n",
    "        ui.append(xnn/m)\n",
    "        #print(str(i) + \"\\t\"+ str(xnn)+\"\\t\"+str(ui))\n",
    "        xn = xnn\n",
    "        \n",
    "    return ui"
   ]
  },
  {
   "cell_type": "code",
   "execution_count": 23,
   "metadata": {},
   "outputs": [],
   "source": [
    "# metodo generar numero con random de python\n",
    "import random\n",
    "def random_python(N):\n",
    "    numeros = []\n",
    "    random.seed(20112022)\n",
    "    [numeros.append(random.random())for i in range(N)]\n",
    "    return numeros\n",
    "\n"
   ]
  },
  {
   "cell_type": "code",
   "execution_count": 32,
   "metadata": {},
   "outputs": [],
   "source": [
    "import pandas as pd\n",
    "def taus():\n",
    "    ## Condicion \n",
    "    condicion = False\n",
    "    while(condicion == False): \n",
    "      valor_r = 7\n",
    "      valor_q = 15\n",
    "\n",
    "      if (0 < valor_r) and (valor_r < valor_q) :\n",
    "        condicion = True\n",
    "      else:\n",
    "        print(\"\\n Condicion: r y q deben cumplir 0 < r < q. \\n\")  \n",
    "\n",
    "\n",
    "    valor_nm = 100\n",
    "\n",
    "    listaNumerosBinarios = []\n",
    "\n",
    "    ##Creacion de valores binarios con formula bi = (bi-r + bi-q) mod 2\n",
    "    for i in range(0,valor_nm):\n",
    "      if(i<valor_q):\n",
    "        listaNumerosBinarios.append(1)\n",
    "      else: \n",
    "        listaNumerosBinarios.append((listaNumerosBinarios[i-valor_r]+listaNumerosBinarios[i-valor_q]) % 2)\n",
    "    valor_l = 7\n",
    "    valor_agrupaciones = int(valor_nm/valor_l)\n",
    "    print(\"\\nNumero de agrupaciones: \",valor_agrupaciones)\n",
    "\n",
    "    posicion = 0 \n",
    "    aux = valor_l\n",
    "    cont = 0\n",
    "    listaValoresNumericos = []\n",
    "\n",
    "    for j in range(0,valor_agrupaciones):\n",
    "      sublista =listaNumerosBinarios[cont:aux] \n",
    "      binario_To_Decimal = 0\n",
    "      cont2 = 0\n",
    "      for k in range(len(sublista)-1,-1,-1):\n",
    "        if(sublista[cont2]==1): \n",
    "          binario_To_Decimal = 2**(k) + binario_To_Decimal\n",
    "        cont2 = cont2 + 1\n",
    "      listaValoresNumericos.append(round((binario_To_Decimal / (2**valor_l)),2))\n",
    "      cont = cont + valor_l\n",
    "      aux = aux + valor_l\n",
    "\n",
    "    \n",
    "    return listaValoresNumericos\n"
   ]
  },
  {
   "cell_type": "code",
   "execution_count": 19,
   "metadata": {},
   "outputs": [],
   "source": [
    "import math\n",
    "import matplotlib.pyplot as plt\n",
    "def metodo(l, prome): \n",
    "  \n",
    "    num1=0\n",
    "    n1=0\n",
    "    n2=0\n",
    "    \n",
    "    for i in range(len(l)): \n",
    "          \n",
    "        \n",
    "        if (l[i] >= prome and l[i-1] < prome) or (l[i] < prome and l[i-1] >= prome): \n",
    "            \n",
    "            num1 += 1   \n",
    "          \n",
    "        \n",
    "        if(l[i]) >= prome: \n",
    "            n1 += 1   \n",
    "          \n",
    "        \n",
    "        else: \n",
    "            n2 += 1   \n",
    "  \n",
    "    c0 = ((2*n1*n2)/(n1+n2))+(1/2)\n",
    "    c01 = math.sqrt((2*n1*n2*(2*n1*n2-n1-n2))/(((n1+n2)**2)*(n1+n2-1))) \n",
    "  \n",
    "    z = (num1-c0)/c01 \n",
    "    \n",
    "    plt.figure()\n",
    "    etiquetas = ['0', '1']\n",
    "    plt.pie([n1, n2], labels=etiquetas, autopct='%.2f %%')\n",
    "    plt.title('Cantidad de ceros y unos')\n",
    "    plt.show()\n",
    "\n",
    "    \n",
    "# numero de corridas en la secuencia\n",
    "    print ('c0',num1)\n",
    "# cantidad de ceros en la secuencia\n",
    "    print ('n0',n1)\n",
    "# cantidad de unos en la secuncia\n",
    "    print ('n1',n2)\n",
    "# cantidad de numeros\n",
    "    print ('n',(n1+n2))\n",
    "    \n",
    "  \n",
    "    return z "
   ]
  },
  {
   "cell_type": "code",
   "execution_count": 22,
   "metadata": {},
   "outputs": [
    {
     "name": "stdout",
     "output_type": "stream",
     "text": [
      "Cuadrados\n"
     ]
    },
    {
     "data": {
      "image/png": "[encoded data removed]",
      "text/plain": [
       "<Figure size 432x288 with 1 Axes>"
      ]
     },
     "metadata": {},
     "output_type": "display_data"
    },
    {
     "name": "stdout",
     "output_type": "stream",
     "text": [
      "c0 48\n",
      "n0 59\n",
      "n1 41\n",
      "n 100\n",
      "Z  0.18288151435083783\n"
     ]
    }
   ],
   "source": [
    "print(\"Cuadrados\")\n",
    "numeros1= cuadrados()\n",
    "#print(numeros1)\n",
    "prome= 0.5\n",
    "Z = abs(metodo(numeros1, prome))   \n",
    "print('Z ', Z)"
   ]
  },
  {
   "cell_type": "code",
   "execution_count": 21,
   "metadata": {},
   "outputs": [
    {
     "name": "stdout",
     "output_type": "stream",
     "text": [
      "Congruencia\n"
     ]
    },
    {
     "data": {
      "image/png": "[encoded data removed]",
      "text/plain": [
       "<Figure size 432x288 with 1 Axes>"
      ]
     },
     "metadata": {},
     "output_type": "display_data"
    },
    {
     "name": "stdout",
     "output_type": "stream",
     "text": [
      "c0 44\n",
      "n0 56\n",
      "n1 44\n",
      "n 100\n",
      "Z  1.1790343429651864\n"
     ]
    }
   ],
   "source": [
    "print(\"Congruencia\")\n",
    "numeros1= congruencia()\n",
    "#print(numeros1)\n",
    "prome= 0.5\n",
    "Z = abs(metodo(numeros1, prome))  \n",
    "print('Z ', Z)"
   ]
  },
  {
   "cell_type": "code",
   "execution_count": 33,
   "metadata": {},
   "outputs": [
    {
     "name": "stdout",
     "output_type": "stream",
     "text": [
      "Tausworthe\n",
      "\n",
      "Numero de agrupaciones:  14\n"
     ]
    },
    {
     "data": {
      "image/png": "[encoded data removed]",
      "text/plain": [
       "<Figure size 432x288 with 1 Axes>"
      ]
     },
     "metadata": {},
     "output_type": "display_data"
    },
    {
     "name": "stdout",
     "output_type": "stream",
     "text": [
      "c0 8\n",
      "n0 10\n",
      "n1 4\n",
      "n 14\n",
      "Z  1.240494158622183\n"
     ]
    }
   ],
   "source": [
    "print(\"Tausworthe\")\n",
    "numeros1= taus()\n",
    "#print(numeros1)\n",
    "prome= 0.5\n",
    "Z = abs(metodo(numeros1, prome))  \n",
    "print('Z ', Z)"
   ]
  },
  {
   "cell_type": "code",
   "execution_count": null,
   "metadata": {},
   "outputs": [],
   "source": [
    "print(\"Random\")\n",
    "numeros1= random_python()\n",
    "#print(numeros1)\n",
    "prome= 0.5\n",
    "Z = abs(metodo(numeros1, prome))  \n",
    "print('Z ', Z)"
   ]
  }
 ],
 "metadata": {
  "kernelspec": {
   "display_name": "Python 3",
   "language": "python",
   "name": "python3"
  },
  "language_info": {
   "codemirror_mode": {
    "name": "ipython",
    "version": 3
   },
   "file_extension": ".py",
   "mimetype": "text/x-python",
   "name": "python",
   "nbconvert_exporter": "python",
   "pygments_lexer": "ipython3",
   "version": "3.7.3"
  }
 },
 "nbformat": 4,
 "nbformat_minor": 2
}
