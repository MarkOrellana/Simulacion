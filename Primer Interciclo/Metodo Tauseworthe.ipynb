{
 "cells": [
  {
   "cell_type": "code",
   "execution_count": 1,
   "metadata": {},
   "outputs": [],
   "source": [
    "import pandas as pd\n",
    "def metodo(q,h,l,nBits):\n",
    "    \n",
    "    generador=[]\n",
    "    conversion=[]\n",
    "    conversion2=[]\n",
    "    result=0\n",
    "\n",
    "    vector_l=list(range(l))\n",
    "    vector_l.reverse()\n",
    "\n",
    "    if h<q:\n",
    "        for i in range(1,len(list(range(1,nBits+1)))+1):\n",
    "            if i<=q:\n",
    "                generador.append(1)\n",
    "            else:\n",
    "                aux1=i-(h+1)\n",
    "                aux2=i-(q+1)\n",
    "                generador.append((generador[aux1]+generador[aux2])%2)\n",
    "\n",
    "        for i in range(l,len(generador)+1,l):\n",
    "            fragmento=generador[i-l:i]\n",
    "            for j in range(len(fragmento)):\n",
    "                result+=fragmento[j]*2**vector_l[j]\n",
    "            conversion.append(result)\n",
    "            conversion2.append(result/(2**l))\n",
    "            result=0\n",
    "\n",
    "\n",
    "        df = pd.DataFrame(generador,index=list(range(1,nBits+1)))\n",
    "\n",
    "        print(df)\n",
    "        print(conversion)\n",
    "        print(conversion2)\n",
    "\n",
    "    else:\n",
    "        print(\"el valor de h tiene que ser menor a q\")"
   ]
  },
  {
   "cell_type": "code",
   "execution_count": 4,
   "metadata": {},
   "outputs": [
    {
     "name": "stdout",
     "output_type": "stream",
     "text": [
      "metodo \n",
      "Ingrese el valor de q: 5\n",
      "Ingrese el valor de h: 3\n",
      "Ingrese el valor de l: 4\n",
      "Ingrese el numero de bits con el que decea trabajar: 12\n",
      "    0\n",
      "1   1\n",
      "2   1\n",
      "3   1\n",
      "4   1\n",
      "5   1\n",
      "6   0\n",
      "7   0\n",
      "8   0\n",
      "9   1\n",
      "10  1\n",
      "11  0\n",
      "12  1\n",
      "[15, 8, 13]\n",
      "[0.9375, 0.5, 0.8125]\n"
     ]
    }
   ],
   "source": [
    " print(\"metodo \")\n",
    "q=int(input(\"Ingrese el valor de q: \"))\n",
    "h=int(input(\"Ingrese el valor de h: \"))\n",
    "l=int(input(\"Ingrese el valor de l: \"))\n",
    "nBits=int(input(\"Ingrese el numero de bits con el que desea trabajar: \"))\n",
    "metodo(q,h,l,nBits)"
   ]
  },
  {
   "cell_type": "code",
   "execution_count": null,
   "metadata": {},
   "outputs": [],
   "source": []
  }
 ],
 "metadata": {
  "kernelspec": {
   "display_name": "Python 3",
   "language": "python",
   "name": "python3"
  },
  "language_info": {
   "codemirror_mode": {
    "name": "ipython",
    "version": 3
   },
   "file_extension": ".py",
   "mimetype": "text/x-python",
   "name": "python",
   "nbconvert_exporter": "python",
   "pygments_lexer": "ipython3",
   "version": "3.7.3"
  }
 },
 "nbformat": 4,
 "nbformat_minor": 2
}
