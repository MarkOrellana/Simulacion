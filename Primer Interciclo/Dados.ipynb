{
 "cells": [
  {
   "cell_type": "code",
   "execution_count": 1,
   "metadata": {},
   "outputs": [],
   "source": [
    "import random\n",
    "import matplotlib.pyplot as plt\n",
    "\n",
    "historico={\"2\":0,\"3\":0,\"4\":0,\"5\":0,\"6\":0,\"7\":0,\"8\":0,\"9\":0,\"10\":0,\"11\":0,\"12\":0}\n",
    "\n",
    "def lanzar_dados():\n",
    "\n",
    "    dado1 = random.randint(1, 6)\n",
    "    dado2 = random.randint(1, 6)\n",
    "    suma=dado1+dado2\n",
    "    return suma\n",
    "\n",
    "def repeticiones(n):\n",
    "\n",
    "    global historico\n",
    "    for i in range(n+1):\n",
    "        resultado=lanzar_dados()\n",
    "        historico[str(resultado)]+=1\n",
    "\n",
    "def dibujar(n): \n",
    "\n",
    "    global historico\n",
    "\n",
    "    repeticiones(n)\n",
    "    \n",
    "    eje_x = list(historico.keys())\n",
    "    eje_y = list(historico.values())\n",
    "\n",
    "    plt.figure()\n",
    "    plt.barh(eje_x, eje_y, color=\"blue\")\n",
    "    plt.ylabel('Numero')\n",
    "    plt.xlabel('Repeticiones')\n",
    "    plt.show()\n",
    "    \n",
    "    print(historico)\n",
    "    historico={\"2\":0,\"3\":0,\"4\":0,\"5\":0,\"6\":0,\"7\":0,\"8\":0,\"9\":0,\"10\":0,\"11\":0,\"12\":0}"
   ]
  },
  {
   "cell_type": "code",
   "execution_count": 2,
   "metadata": {},
   "outputs": [
    {
     "data": {
      "image/png": "[encoded data removed]",
      "text/plain": [
       "<Figure size 432x288 with 1 Axes>"
      ]
     },
     "metadata": {
      "needs_background": "light"
     },
     "output_type": "display_data"
    },
    {
     "name": "stdout",
     "output_type": "stream",
     "text": [
      "{'2': 3, '3': 7, '4': 5, '5': 7, '6': 7, '7': 22, '8': 15, '9': 12, '10': 12, '11': 6, '12': 5}\n"
     ]
    }
   ],
   "source": [
    "dibujar(100)"
   ]
  },
  {
   "cell_type": "code",
   "execution_count": null,
   "metadata": {},
   "outputs": [],
   "source": []
  }
 ],
 "metadata": {
  "kernelspec": {
   "display_name": "Python 3",
   "language": "python",
   "name": "python3"
  },
  "language_info": {
   "codemirror_mode": {
    "name": "ipython",
    "version": 3
   },
   "file_extension": ".py",
   "mimetype": "text/x-python",
   "name": "python",
   "nbconvert_exporter": "python",
   "pygments_lexer": "ipython3",
   "version": "3.7.3"
  }
 },
 "nbformat": 4,
 "nbformat_minor": 2
}
